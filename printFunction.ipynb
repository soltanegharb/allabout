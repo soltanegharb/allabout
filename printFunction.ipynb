{
  "metadata": {
    "kernelspec": {
      "name": "python",
      "display_name": "Python (Pyodide)",
      "language": "python"
    },
    "language_info": {
      "codemirror_mode": {
        "name": "python",
        "version": 3
      },
      "file_extension": ".py",
      "mimetype": "text/x-python",
      "name": "python",
      "nbconvert_exporter": "python",
      "pygments_lexer": "ipython3",
      "version": "3.8"
    }
  },
  "nbformat_minor": 4,
  "nbformat": 4,
  "cells": [
    {
      "cell_type": "markdown",
      "source": "# Basic Usage:\nIt prints out whatever string you put inside the parentheses.\n",
      "metadata": {}
    },
    {
      "cell_type": "code",
      "source": "print(\"Hello, World!\")",
      "metadata": {
        "trusted": true
      },
      "outputs": [],
      "execution_count": null
    },
    {
      "cell_type": "markdown",
      "source": "# Multiple Arguments:\nIt prints \"Hello\" and \"World!\" separated by a space.",
      "metadata": {}
    },
    {
      "cell_type": "code",
      "source": "print(\"Hello\", \"World!\")",
      "metadata": {
        "trusted": true
      },
      "outputs": [],
      "execution_count": null
    },
    {
      "cell_type": "markdown",
      "source": "# Separator:\nYou can use the sep parameter to define a custom separator. This prints: Hello-World!\n",
      "metadata": {}
    },
    {
      "cell_type": "code",
      "source": "print(\"Hello\", \"World!\", sep=\"-\")",
      "metadata": {
        "trusted": true
      },
      "outputs": [],
      "execution_count": null
    },
    {
      "cell_type": "markdown",
      "source": "# End Parameter:\nThe end parameter changes the ending character. By default, it's a newline character \\n. The above code prints: Hello!!!World.\n",
      "metadata": {}
    },
    {
      "cell_type": "code",
      "source": "print(\"Hello\", end=\"!!!\")\nprint(\"World\")",
      "metadata": {
        "trusted": true
      },
      "outputs": [],
      "execution_count": null
    },
    {
      "cell_type": "markdown",
      "source": "# Formatted Strings:\nYou can use formatted strings (f-strings) to include variables. It prints: Alice is 30 years old.",
      "metadata": {}
    },
    {
      "cell_type": "code",
      "source": "name = \"Alice\"\nage = 30\nprint(f\"{name} is {age} years old\")",
      "metadata": {
        "trusted": true
      },
      "outputs": [],
      "execution_count": null
    },
    {
      "cell_type": "markdown",
      "source": "# File Handling:\nYou can direct the output to a file using the file parameter.",
      "metadata": {}
    },
    {
      "cell_type": "code",
      "source": "with open(\"output.txt\", \"w\") as file:\n    print(\"Hello, World!\", file=file)",
      "metadata": {
        "trusted": true
      },
      "outputs": [],
      "execution_count": null
    },
    {
      "cell_type": "markdown",
      "source": "# Printing with Escape Sequences:\nThe \\n escape sequence adds a new line.",
      "metadata": {}
    },
    {
      "cell_type": "code",
      "source": "print(\"Line 1\\nLine 2\\nLine 3\")",
      "metadata": {
        "trusted": true
      },
      "outputs": [],
      "execution_count": null
    },
    {
      "cell_type": "markdown",
      "source": "# Printing Non-String Types:\nYou can print various data types directly.",
      "metadata": {}
    },
    {
      "cell_type": "code",
      "source": "print(10)           # Integer\nprint(3.14)         # Float\nprint(True)         # Boolean",
      "metadata": {
        "trusted": true
      },
      "outputs": [],
      "execution_count": null
    },
    {
      "cell_type": "markdown",
      "source": "# Printing Dictionary Items:\nThis prints the entire dictionary: {'name': 'Alice', 'age': 30}.",
      "metadata": {}
    },
    {
      "cell_type": "code",
      "source": "my_dict = {\"name\": \"Alice\", \"age\": 30}\nprint(my_dict)",
      "metadata": {
        "trusted": true
      },
      "outputs": [],
      "execution_count": null
    },
    {
      "cell_type": "markdown",
      "source": "# Joining Lists:\nThis joins list items into a single string: apple, banana, cherry.",
      "metadata": {}
    },
    {
      "cell_type": "code",
      "source": "my_list = [\"apple\", \"banana\", \"cherry\"]\nprint(\", \".join(my_list))",
      "metadata": {
        "trusted": true
      },
      "outputs": [],
      "execution_count": null
    },
    {
      "cell_type": "markdown",
      "source": "# Formatted Output Using format():\nIt prints: Bob is 25 years old.",
      "metadata": {}
    },
    {
      "cell_type": "code",
      "source": "name = \"Bob\"\nage = 25\nprint(\"{} is {} years old\".format(name, age))",
      "metadata": {
        "trusted": true
      },
      "outputs": [],
      "execution_count": null
    },
    {
      "cell_type": "markdown",
      "source": "# Printing with the % Operator:\nThis prints: Charlie is 28 years old.",
      "metadata": {}
    },
    {
      "cell_type": "code",
      "source": "name = \"Charlie\"\nage = 28\nprint(\"%s is %d years old\" % (name, age))",
      "metadata": {
        "trusted": true
      },
      "outputs": [],
      "execution_count": null
    },
    {
      "cell_type": "markdown",
      "source": "# Printing Unicode Characters:\nThis prints: Ω.",
      "metadata": {}
    },
    {
      "cell_type": "code",
      "source": "print(\"\\u03A9\")  # Prints the Greek capital letter Omega (Ω)",
      "metadata": {
        "trusted": true
      },
      "outputs": [],
      "execution_count": null
    },
    {
      "cell_type": "markdown",
      "source": "# Printing Raw Strings:\nThe r before the string makes it a raw string, which ignores escape characters.So it prints exactly as typed: This is a raw string \\n with no special treatment.",
      "metadata": {}
    },
    {
      "cell_type": "code",
      "source": "print(r\"This is a raw string \\n with no special treatment\")",
      "metadata": {
        "trusted": true
      },
      "outputs": [],
      "execution_count": null
    },
    {
      "cell_type": "markdown",
      "source": "# Printing to STDERR:\nYou can direct your output to the standard error stream, useful for logging errors separately from regular output.",
      "metadata": {}
    },
    {
      "cell_type": "code",
      "source": "import sys\nprint(\"This is an error message\", file=sys.stderr)",
      "metadata": {
        "trusted": true
      },
      "outputs": [],
      "execution_count": null
    },
    {
      "cell_type": "markdown",
      "source": "# Printing with Colors (using colorama library):\nUsing external libraries like colorama, you can add colors to your printed text for better readability and emphasis.",
      "metadata": {}
    },
    {
      "cell_type": "code",
      "source": "%pip install colorama",
      "metadata": {
        "trusted": true
      },
      "outputs": [],
      "execution_count": null
    },
    {
      "cell_type": "code",
      "source": "from colorama import Fore, Style\nprint(Fore.RED + \"This is red text\" + Style.RESET_ALL)",
      "metadata": {
        "trusted": true
      },
      "outputs": [],
      "execution_count": null
    },
    {
      "cell_type": "markdown",
      "source": "# Printing Data Structures Nicely (using pprint):\npprint(pretty print) makes complex data structures more readable.",
      "metadata": {}
    },
    {
      "cell_type": "code",
      "source": "from pprint import pprint\nmy_data = {\"name\": \"Alice\", \"age\": 30, \"hobbies\": [\"reading\", \"biking\"]}\npprint(my_data)",
      "metadata": {
        "trusted": true
      },
      "outputs": [],
      "execution_count": null
    },
    {
      "cell_type": "markdown",
      "source": "# Printing JSON Formatted Data:\nYou can use the json library to print dictionaries in a well-formatted JSON style.",
      "metadata": {}
    },
    {
      "cell_type": "code",
      "source": "import json\ndata = {\"name\": \"Bob\", \"age\": 25, \"hobbies\": [\"coding\", \"gaming\"]}\nprint(json.dumps(data, indent=4))",
      "metadata": {
        "trusted": true
      },
      "outputs": [],
      "execution_count": null
    },
    {
      "cell_type": "markdown",
      "source": "# Printing with Buffering:\nThe flush parameter forces the system to print output immediately, which is useful for real-time applications.",
      "metadata": {}
    },
    {
      "cell_type": "code",
      "source": "import time\nimport sys\n\nfor i in range(5):\n    print(i, end='', flush=True)\n    time.sleep(1)",
      "metadata": {
        "trusted": true
      },
      "outputs": [],
      "execution_count": null
    }
  ]
}