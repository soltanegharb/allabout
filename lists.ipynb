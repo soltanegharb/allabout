{
  "metadata": {
    "kernelspec": {
      "name": "python",
      "display_name": "Python (Pyodide)",
      "language": "python"
    },
    "language_info": {
      "codemirror_mode": {
        "name": "python",
        "version": 3
      },
      "file_extension": ".py",
      "mimetype": "text/x-python",
      "name": "python",
      "nbconvert_exporter": "python",
      "pygments_lexer": "ipython3",
      "version": "3.8"
    }
  },
  "nbformat_minor": 4,
  "nbformat": 4,
  "cells": [
    {
      "cell_type": "markdown",
      "source": "# Creating Lists\nYou can create a list by enclosing elements in square brackets []:",
      "metadata": {}
    },
    {
      "cell_type": "code",
      "source": "my_list = [1, 2, 3, 4, 5]",
      "metadata": {
        "trusted": true
      },
      "outputs": [],
      "execution_count": null
    },
    {
      "cell_type": "markdown",
      "source": "The list() function is a built-in Python function that creates a list object. Lists are one of the most commonly used data types in Python, and they're very flexible.",
      "metadata": {}
    },
    {
      "cell_type": "markdown",
      "source": "# Creating an Empty List:",
      "metadata": {}
    },
    {
      "cell_type": "code",
      "source": "empty_list = list()\nprint(empty_list)  # Outputs: []",
      "metadata": {
        "trusted": true
      },
      "outputs": [],
      "execution_count": null
    },
    {
      "cell_type": "markdown",
      "source": "# Converting Other Iterables to List\nYou can convert other iterable types (like tuples, strings, or sets) into a list.",
      "metadata": {}
    },
    {
      "cell_type": "code",
      "source": "tuple_example = (1, 2, 3)\nlist_from_tuple = list(tuple_example)\nprint(list_from_tuple)  # Outputs: [1, 2, 3]\n\nset_example = {1, 2, 3}\nlist_from_set = list(set_example)\nprint(list_from_set)  # Outputs: [1, 2, 3]\n\nstring_example = 'hello'\nlist_from_string = list(string_example)\nprint(list_from_string)  # Outputs: ['h', 'e', 'l', 'l', 'o']",
      "metadata": {
        "trusted": true
      },
      "outputs": [],
      "execution_count": null
    },
    {
      "cell_type": "markdown",
      "source": "# Accessing Elements\nYou can access elements by their index (starting from 0):",
      "metadata": {}
    },
    {
      "cell_type": "code",
      "source": "my_list=[1,2,3]\nprint(my_list[0])  # Output: 1\nprint(my_list[2])  # Output: 3",
      "metadata": {
        "trusted": true
      },
      "outputs": [],
      "execution_count": null
    },
    {
      "cell_type": "markdown",
      "source": "# Multiplying Lists:\nRepeat the elements of a list.",
      "metadata": {}
    },
    {
      "cell_type": "code",
      "source": "my_list = [1, 2, 3]\nmultiplied = my_list * 3\nprint(multiplied)  # Outputs: [1, 2, 3, 1, 2, 3, 1, 2, 3]",
      "metadata": {
        "trusted": true
      },
      "outputs": [],
      "execution_count": null
    },
    {
      "cell_type": "markdown",
      "source": "# Modifying Elements\nYou can modify elements using their index:",
      "metadata": {}
    },
    {
      "cell_type": "code",
      "source": "my_list = [1, 2, 3, 4, 5]\nmy_list[2] = 10\nprint(my_list)  # Output: [1, 2, 10, 4, 5]",
      "metadata": {
        "trusted": true
      },
      "outputs": [],
      "execution_count": null
    },
    {
      "cell_type": "markdown",
      "source": "# List Methods\nAppend: Adds an element to the end of the list.",
      "metadata": {}
    },
    {
      "cell_type": "code",
      "source": "my_list = [1, 2, 10, 4, 5]\nmy_list.append(6)\nprint(my_list)  # Output: [1, 2, 10, 4, 5, 6]",
      "metadata": {
        "trusted": true
      },
      "outputs": [],
      "execution_count": null
    },
    {
      "cell_type": "markdown",
      "source": "Insert: Inserts an element at a specified position.",
      "metadata": {}
    },
    {
      "cell_type": "code",
      "source": "my_list = [1, 2, 10, 4, 5, 6]\nmy_list.insert(2, 15)\nprint(my_list)  # Output: [1, 2, 15, 10, 4, 5, 6]",
      "metadata": {
        "trusted": true
      },
      "outputs": [],
      "execution_count": null
    },
    {
      "cell_type": "markdown",
      "source": "Remove: Removes the first occurrence of an element.",
      "metadata": {}
    },
    {
      "cell_type": "code",
      "source": "my_list = [1, 2, 15, 10, 4, 5, 6]\nmy_list.remove(10)\nprint(my_list)  # Output: [1, 2, 15, 4, 5, 6]",
      "metadata": {
        "trusted": true
      },
      "outputs": [],
      "execution_count": null
    },
    {
      "cell_type": "markdown",
      "source": "Pop: Removes and returns the element at a specified position.",
      "metadata": {}
    },
    {
      "cell_type": "code",
      "source": "my_list = [1, 2, 15, 4, 5, 6]\npopped_element = my_list.pop(3)\nprint(popped_element)  # Output: 4\nprint(my_list)  # Output: [1, 2, 15, 5, 6]",
      "metadata": {
        "trusted": true
      },
      "outputs": [],
      "execution_count": null
    },
    {
      "cell_type": "markdown",
      "source": "Sort: Sorts the list in ascending order.",
      "metadata": {}
    },
    {
      "cell_type": "code",
      "source": "my_list = [1, 2, 15, 5, 6]\nmy_list.sort()\nprint(my_list)  # Output: [1, 2, 5, 6, 15]",
      "metadata": {
        "trusted": true
      },
      "outputs": [],
      "execution_count": null
    },
    {
      "cell_type": "markdown",
      "source": "Reverse: Reverses the order of the list.",
      "metadata": {}
    },
    {
      "cell_type": "code",
      "source": "my_list = [1, 2, 5, 6, 15]\nmy_list.reverse()\nprint(my_list)  # Output: [15, 6, 5, 2, 1]",
      "metadata": {
        "trusted": true
      },
      "outputs": [],
      "execution_count": null
    },
    {
      "cell_type": "markdown",
      "source": "Extending a List:",
      "metadata": {}
    },
    {
      "cell_type": "code",
      "source": "list1 = [1, 2, 3]\nlist2 = [4, 5, 6]\nlist1.extend(list2)\nprint(list1)  # Outputs: [1, 2, 3, 4, 5, 6]",
      "metadata": {
        "trusted": true
      },
      "outputs": [],
      "execution_count": null
    },
    {
      "cell_type": "markdown",
      "source": "# Checking if List is Empty:\nUsing a simple condition to check.",
      "metadata": {}
    },
    {
      "cell_type": "code",
      "source": "my_list = []\nprint(not my_list)  # Outputs: True (list is empty)",
      "metadata": {
        "trusted": true
      },
      "outputs": [],
      "execution_count": null
    },
    {
      "cell_type": "markdown",
      "source": "# Finding the Maximum and Minimum:\nSimple methods to find max and min values.",
      "metadata": {}
    },
    {
      "cell_type": "code",
      "source": "my_list = [10, 20, 30, 40]\nprint(max(my_list))  # Outputs: 40\nprint(min(my_list))  # Outputs: 10",
      "metadata": {
        "trusted": true
      },
      "outputs": [],
      "execution_count": null
    },
    {
      "cell_type": "markdown",
      "source": "# Summing Elements:\nUsing sum() to find the total of all elements.",
      "metadata": {}
    },
    {
      "cell_type": "code",
      "source": "my_list = [10, 20, 30, 40]\nprint(sum(my_list))  # Outputs: 100",
      "metadata": {
        "trusted": true
      },
      "outputs": [],
      "execution_count": null
    },
    {
      "cell_type": "markdown",
      "source": "# Copying Lists:",
      "metadata": {}
    },
    {
      "cell_type": "code",
      "source": "original_list = [1, 2, 3]\ncopied_list = original_list.copy()\nprint(copied_list)  # Outputs: [1, 2, 3]",
      "metadata": {
        "trusted": true
      },
      "outputs": [],
      "execution_count": null
    },
    {
      "cell_type": "markdown",
      "source": "Using the list() function to copy a list.",
      "metadata": {}
    },
    {
      "cell_type": "code",
      "source": "original_list = [1, 2, 3]\ncopied_list = list(original_list)\nprint(copied_list)  # Outputs: [1, 2, 3]",
      "metadata": {
        "trusted": true
      },
      "outputs": [],
      "execution_count": null
    },
    {
      "cell_type": "markdown",
      "source": "# Slicing\nYou can slice lists to get a sublist:",
      "metadata": {}
    },
    {
      "cell_type": "code",
      "source": "sub_list = my_list[1:4]\nprint(sub_list)  # Output: [6, 5, 2]",
      "metadata": {
        "trusted": true
      },
      "outputs": [],
      "execution_count": null
    },
    {
      "cell_type": "markdown",
      "source": "# List Slicing with Steps:\nGrab elements with a specific step.",
      "metadata": {}
    },
    {
      "cell_type": "code",
      "source": "my_list = [0, 1, 2, 3, 4, 5, 6, 7, 8, 9]\nprint(my_list[1:8:2])  # Outputs: [1, 3, 5, 7]",
      "metadata": {
        "trusted": true
      },
      "outputs": [],
      "execution_count": null
    },
    {
      "cell_type": "markdown",
      "source": "# List Slicing to Reverse:\nQuick way to reverse a list.",
      "metadata": {}
    },
    {
      "cell_type": "code",
      "source": "my_list = [1, 2, 3, 4, 5]\nreversed_list = my_list[::-1]\nprint(reversed_list)  # Outputs: [5, 4, 3, 2, 1]",
      "metadata": {
        "trusted": true
      },
      "outputs": [],
      "execution_count": null
    },
    {
      "cell_type": "markdown",
      "source": "# Partitioning a List:\nSplitting a list into chunks.",
      "metadata": {}
    },
    {
      "cell_type": "code",
      "source": "my_list = [1, 2, 3, 4, 5, 6]\nchunk_size = 2\npartitioned_list = [my_list[i:i + chunk_size]\n                    for i in range(0, len(my_list), chunk_size)]\nprint(partitioned_list)  # Outputs: [[1, 2], [3, 4], [5, 6]]",
      "metadata": {
        "trusted": true
      },
      "outputs": [],
      "execution_count": null
    },
    {
      "cell_type": "markdown",
      "source": "# Finding the Length:",
      "metadata": {}
    },
    {
      "cell_type": "code",
      "source": "my_list = [1, 2, 3, 4, 5]\nprint(len(my_list))  # Outputs: 5",
      "metadata": {
        "trusted": true
      },
      "outputs": [],
      "execution_count": null
    },
    {
      "cell_type": "markdown",
      "source": "# List Comprehensions\nPython allows for more concise lists creation using list comprehensions:",
      "metadata": {}
    },
    {
      "cell_type": "code",
      "source": "squares = [x**2 for x in range(6)]\nprint(squares)  # Output: [0, 1, 4, 9, 16, 25]",
      "metadata": {
        "trusted": true
      },
      "outputs": [],
      "execution_count": null
    },
    {
      "cell_type": "markdown",
      "source": "# List Comprehensions with Multiple Loops:",
      "metadata": {}
    },
    {
      "cell_type": "code",
      "source": "pairs = [(x, y) for x in range(3) for y in range(3)]\n# Outputs: [(0, 0), (0, 1), (0, 2), (1, 0), (1, 1), (1, 2), (2, 0), (2, 1), (2, 2)]\nprint(pairs)",
      "metadata": {
        "trusted": true
      },
      "outputs": [],
      "execution_count": null
    },
    {
      "cell_type": "markdown",
      "source": "# List Generators:\nSimilar to list comprehensions but using generator syntax to create a generator object.",
      "metadata": {}
    },
    {
      "cell_type": "code",
      "source": "gen = (x**2 for x in range(5))\nprint(list(gen))  # Outputs: [0, 1, 4, 9, 16]",
      "metadata": {
        "trusted": true
      },
      "outputs": [],
      "execution_count": null
    },
    {
      "cell_type": "markdown",
      "source": "# Filtering Lists:",
      "metadata": {}
    },
    {
      "cell_type": "code",
      "source": "even_squares = [x for x in squares if x % 2 == 0]\nprint(even_squares)  # Outputs: [0, 4, 16]",
      "metadata": {
        "trusted": true
      },
      "outputs": [],
      "execution_count": null
    },
    {
      "cell_type": "markdown",
      "source": "# List Comprehensions with Conditional Logic:",
      "metadata": {}
    },
    {
      "cell_type": "code",
      "source": "filtered_list = [x if x % 2 == 0 else 'odd' for x in range(10)]\nprint(filtered_list)  # Outputs: ['even', 1, 'even', 3, 'even', 5, 'even', 7, 'even', 9]",
      "metadata": {
        "trusted": true
      },
      "outputs": [],
      "execution_count": null
    },
    {
      "cell_type": "markdown",
      "source": "Combining List with Other Functions:",
      "metadata": {}
    },
    {
      "cell_type": "code",
      "source": "numbers = [1, 2, 3, 4]\neven_numbers = list(filter(lambda x: x % 2 == 0, numbers))\nprint(even_numbers)  # Outputs: [2, 4]",
      "metadata": {
        "trusted": true
      },
      "outputs": [],
      "execution_count": null
    },
    {
      "cell_type": "markdown",
      "source": "# Combining Lists\nYou can concatenate two lists using the + operator:",
      "metadata": {}
    },
    {
      "cell_type": "code",
      "source": "list1 = [1, 2, 3]\nlist2 = [4, 5, 6]\ncombined_list = list1 + list2\nprint(combined_list)  # Output: [1, 2, 3, 4, 5, 6]",
      "metadata": {
        "trusted": true
      },
      "outputs": [],
      "execution_count": null
    },
    {
      "cell_type": "markdown",
      "source": "# Merging and Combining Lists:",
      "metadata": {}
    },
    {
      "cell_type": "code",
      "source": "list1 = [1, 2, 3]\nlist2 = [4, 5, 6]\nmerged = [*list1, *list2]\nprint(merged)  # Outputs: [1, 2, 3, 4, 5, 6]\nprint([x for x in list1] + [x for x in list2]) # The same as upper line",
      "metadata": {
        "trusted": true
      },
      "outputs": [],
      "execution_count": null
    },
    {
      "cell_type": "markdown",
      "source": "# Sorting Lists:\nReturns a new list and leaves the original list unchanged.",
      "metadata": {}
    },
    {
      "cell_type": "code",
      "source": "unsorted_list = [3, 1, 4, 2]\nsorted_list = sorted(unsorted_list)\nprint(sorted_list)  # Outputs: [1, 2, 3, 4]",
      "metadata": {
        "trusted": true
      },
      "outputs": [],
      "execution_count": null
    },
    {
      "cell_type": "markdown",
      "source": "# Using bisect for Sorted Lists:\nMaintain a sorted list and insert elements in the correct position.",
      "metadata": {}
    },
    {
      "cell_type": "code",
      "source": "import bisect\n\nsorted_list = [1, 3, 4, 7]\nbisect.insort(sorted_list, 5)\nprint(sorted_list)  # Outputs: [1, 3, 4, 5, 7]",
      "metadata": {
        "trusted": true
      },
      "outputs": [],
      "execution_count": null
    },
    {
      "cell_type": "markdown",
      "source": "# Using itertools for Advanced List Manipulation:\ncombinations: Generate all possible combinations of a specified length.",
      "metadata": {}
    },
    {
      "cell_type": "code",
      "source": "import itertools\nlist1 = [1, 2, 3]\ncombos = list(itertools.combinations(list1, 2))\nprint(combos)  # Outputs: [(1, 2), (1, 3), (2, 3)]",
      "metadata": {
        "trusted": true
      },
      "outputs": [],
      "execution_count": null
    },
    {
      "cell_type": "markdown",
      "source": "permutations: Generate all possible orderings.",
      "metadata": {}
    },
    {
      "cell_type": "code",
      "source": "import itertools\nperms = list(itertools.permutations(list1))\nprint(perms)  # Outputs: [(1, 2, 3), (1, 3, 2), (2, 1, 3), (2, 3, 1), (3, 1, 2), (3, 2, 1)]",
      "metadata": {
        "trusted": true
      },
      "outputs": [],
      "execution_count": null
    },
    {
      "cell_type": "markdown",
      "source": "# Nested Lists:\nLists within lists.",
      "metadata": {}
    },
    {
      "cell_type": "code",
      "source": "nested_list = [[1, 2, 3], [4, 5, 6], [7, 8, 9]]\nprint(nested_list[1][2])  # Outputs: 6",
      "metadata": {
        "trusted": true
      },
      "outputs": [],
      "execution_count": null
    },
    {
      "cell_type": "markdown",
      "source": "# List of Lists(Matrix):\nCreating and accessing elements in a 2D list.",
      "metadata": {}
    },
    {
      "cell_type": "code",
      "source": "matrix = [\n    [1, 2, 3],\n    [4, 5, 6],\n    [7, 8, 9]\n]\nprint(matrix[1][2])  # Outputs: 6",
      "metadata": {
        "trusted": true
      },
      "outputs": [],
      "execution_count": null
    },
    {
      "cell_type": "markdown",
      "source": "# Transposing a Matrix:\nUsing zip to transpose rows and columns.",
      "metadata": {}
    },
    {
      "cell_type": "code",
      "source": "matrix = [\n    [1, 2, 3],\n    [4, 5, 6],\n    [7, 8, 9]\n]\ntransposed = list(zip(*matrix))\nprint(transposed)  # Outputs: [(1, 4, 7), (2, 5, 8), (3, 6, 9)]",
      "metadata": {
        "trusted": true
      },
      "outputs": [],
      "execution_count": null
    },
    {
      "cell_type": "markdown",
      "source": "# Flattening a Nested List:",
      "metadata": {}
    },
    {
      "cell_type": "code",
      "source": "nested_list = [[1, 2, 3], [4, 5, 6], [7, 8, 9]]\nflattened_list = [item for sublist in nested_list for item in sublist]\nprint(flattened_list)  # Outputs: [1, 2, 3, 4, 5, 6, 7, 8, 9]",
      "metadata": {
        "trusted": true
      },
      "outputs": [],
      "execution_count": null
    },
    {
      "cell_type": "markdown",
      "source": "# Flattening a List of Lists Using sum():",
      "metadata": {}
    },
    {
      "cell_type": "code",
      "source": "nested_list = [[1, 2, 3], [4, 5], [6, 7, 8]]\nflattened = sum(nested_list, [])\nprint(flattened)  # Outputs: [1, 2, 3, 4, 5, 6, 7, 8]",
      "metadata": {
        "trusted": true
      },
      "outputs": [],
      "execution_count": null
    },
    {
      "cell_type": "markdown",
      "source": "# itertools.chain:\nThe chain function takes multiple iterables (e.g., lists, tuples) and returns a single iterable that produces elements from the first input iterable until it's exhausted, then moves on to the next input iterable, and so on.\nEssentially, it concatenates multiple iterables.",
      "metadata": {}
    },
    {
      "cell_type": "code",
      "source": "import itertools\nlist1 = [1, 2, 3]\nlist2 = [4, 5, 6]\nchained = itertools.chain(list1, list2)\nprint(list(chained))  # Outputs: [1, 2, 3, 4, 5, 6]",
      "metadata": {
        "trusted": true
      },
      "outputs": [],
      "execution_count": null
    },
    {
      "cell_type": "markdown",
      "source": "# itertools.chain.from_iterable:\nThe from_iterable class method of chain is used for flattening an iterable of iterables into a single iterable.\nIt works by taking an iterable containing other iterables and then producing elements from each of those iterables in sequence.",
      "metadata": {}
    },
    {
      "cell_type": "code",
      "source": "nested_list = [[1, 2, 3], [4, 5], [6, 7, 8]]\nflattened = list(itertools.chain.from_iterable(nested_list))\nprint(flattened)  # Outputs: [1, 2, 3, 4, 5, 6, 7, 8]",
      "metadata": {
        "trusted": true
      },
      "outputs": [],
      "execution_count": null
    },
    {
      "cell_type": "markdown",
      "source": "chain is great when you have distinct iterables you want to concatenate, while chain.from_iterable is perfect for flattening nested iterables. These tools can make your data manipulation tasks much more efficient and concise.",
      "metadata": {}
    },
    {
      "cell_type": "markdown",
      "source": "# Flattening a Nested List (Advanced):\nIn this example, chain.from_iterable(nested_list) takes each sublist within nested_list and chains their elements together into a single sequence, which we convert into a list using list().",
      "metadata": {}
    },
    {
      "cell_type": "code",
      "source": "import itertools\nnested_list = [[1, 2, 3], [4, 5], [6, 7, 8, 9]]\n\nflattened = list(itertools.chain.from_iterable(nested_list))\nprint(flattened)  # Outputs: [1, 2, 3, 4, 5, 6, 7, 8, 9]\n\nflattened2 = list(itertools.chain(\n    nested_list[0], nested_list[1], nested_list[2]))\nprint(flattened2)  # Outputs: [1, 2, 3, 4, 5, 6, 7, 8, 9]",
      "metadata": {
        "trusted": true
      },
      "outputs": [],
      "execution_count": null
    },
    {
      "cell_type": "markdown",
      "source": "# Flatten a List with Mixed Nested Levels:\nA recursive function to handle varying depths.",
      "metadata": {}
    },
    {
      "cell_type": "code",
      "source": "def flatten(lst):\n    flat_list = []\n    for item in lst:\n        if isinstance(item, list):\n            flat_list.extend(flatten(item))\n        else:\n            flat_list.append(item)\n    return flat_list\n\n\nnested_list = [1, [2, [3, 4], 5], 6]\nflattened = flatten(nested_list)\nprint(flattened)  # Outputs: [1, 2, 3, 4, 5, 6]",
      "metadata": {
        "trusted": true
      },
      "outputs": [],
      "execution_count": null
    },
    {
      "cell_type": "markdown",
      "source": "# Using List as Stack:",
      "metadata": {}
    },
    {
      "cell_type": "code",
      "source": "stack = []\nstack.append('a')\nstack.append('b')\nprint(stack.pop())  # Outputs: 'b'\nprint(stack.pop())  # Outputs: 'a'",
      "metadata": {
        "trusted": true
      },
      "outputs": [],
      "execution_count": null
    },
    {
      "cell_type": "markdown",
      "source": "# Using List as Queue:",
      "metadata": {}
    },
    {
      "cell_type": "code",
      "source": "from collections import deque\nqueue = deque([1, 2, 3])\nqueue.append(4)\nprint(queue.popleft())  # Outputs: 1\nprint(queue.popleft())  # Outputs: 2",
      "metadata": {
        "trusted": true
      },
      "outputs": [],
      "execution_count": null
    },
    {
      "cell_type": "markdown",
      "source": "# Enumerating Lists:",
      "metadata": {}
    },
    {
      "cell_type": "code",
      "source": "my_list = ['a', 'b', 'c']\nfor index, value in enumerate(my_list):\n    print(index, value)\n# Outputs:\n# 0 a\n# 1 b\n# 2 c",
      "metadata": {
        "trusted": true
      },
      "outputs": [],
      "execution_count": null
    },
    {
      "cell_type": "markdown",
      "source": "# Zipping Lists:\nCombine elements from multiple lists into tuples.",
      "metadata": {}
    },
    {
      "cell_type": "code",
      "source": "list1 = [1, 2, 3]\nlist2 = ['a', 'b', 'c']\nzipped = list(zip(list1, list2))\nprint(zipped)  # Outputs: [(1, 'a'), (2, 'b'), (3, 'c')]",
      "metadata": {
        "trusted": true
      },
      "outputs": [],
      "execution_count": null
    },
    {
      "cell_type": "markdown",
      "source": "# Unzipping Lists:",
      "metadata": {}
    },
    {
      "cell_type": "code",
      "source": "zipped = [(1, 'a'), (2, 'b'), (3, 'c')]\nlist1, list2 = zip(*zipped)\nprint(list1)  # Outputs: (1, 2, 3)\nprint(list2)  # Outputs: ('a', 'b', 'c')",
      "metadata": {
        "trusted": true
      },
      "outputs": [],
      "execution_count": null
    },
    {
      "cell_type": "markdown",
      "source": "# All and Any Functions:",
      "metadata": {}
    },
    {
      "cell_type": "code",
      "source": "numbers = [2, 4, 6, 8]\n# Outputs: True (all numbers are even)\nprint(all(num % 2 == 0 for num in numbers))\n# Outputs: True (at least one number is greater than 5)\nprint(any(num > 5 for num in numbers))",
      "metadata": {
        "trusted": true
      },
      "outputs": [],
      "execution_count": null
    },
    {
      "cell_type": "markdown",
      "source": "# Using map() with Lists:\nApply a function to all items in a list.",
      "metadata": {}
    },
    {
      "cell_type": "code",
      "source": "numbers = [1, 2, 3, 4]\nsquared = list(map(lambda x: x**2, numbers))\nprint(squared)  # Outputs: [1, 4, 9, 16]",
      "metadata": {
        "trusted": true
      },
      "outputs": [],
      "execution_count": null
    },
    {
      "cell_type": "markdown",
      "source": "# Removing Duplicates:",
      "metadata": {}
    },
    {
      "cell_type": "code",
      "source": "my_list = [1, 2, 2, 3, 3, 3]\nunique_list = list(set(my_list))\nprint(unique_list)  # Outputs: [1, 2, 3]",
      "metadata": {
        "trusted": true
      },
      "outputs": [],
      "execution_count": null
    },
    {
      "cell_type": "markdown",
      "source": "# Deepcopy Lists:\nWhen you want to copy a list containing other lists(nested lists) to ensure the inner lists are also copied.",
      "metadata": {}
    },
    {
      "cell_type": "code",
      "source": "import copy\noriginal = [[1, 2], [3, 4]]\ncopied = copy.deepcopy(original)\ncopied[0][0] = 99\nprint(original)  # Outputs: [[1, 2], [3, 4]]\nprint(copied)    # Outputs: [[99, 2], [3, 4]]",
      "metadata": {
        "trusted": true
      },
      "outputs": [],
      "execution_count": null
    },
    {
      "cell_type": "markdown",
      "source": "# List Indexing with Conditions:\nThe next() function in Python is used to retrieve the next item from an iterator. The syntax next(iterator, default) allows you to provide a default value that is returned if the iterator is exhausted (i.e., if there are no more items to retrieve).",
      "metadata": {}
    },
    {
      "cell_type": "code",
      "source": "my_list = [10, 20, 30, 40]\nindex = next((i for i, x in enumerate(my_list) if x > 25), None)\nprint(index)  # Outputs: 2 (index of the first element greater than 25)",
      "metadata": {
        "trusted": true
      },
      "outputs": [],
      "execution_count": null
    },
    {
      "cell_type": "markdown",
      "source": "# Splitting a List into Head and Tail:\nSeparate the first element from the rest.",
      "metadata": {}
    },
    {
      "cell_type": "code",
      "source": "my_list = [1, 2, 3, 4]\nhead, *tail = my_list\nprint(head)  # Outputs: 1\nprint(tail)  # Outputs: [2, 3, 4]",
      "metadata": {
        "trusted": true
      },
      "outputs": [],
      "execution_count": null
    },
    {
      "cell_type": "markdown",
      "source": "# Using Counter for Frequency Counting:\nCount frequencies of elements in a list.",
      "metadata": {}
    },
    {
      "cell_type": "code",
      "source": "from collections import Counter\nmy_list = [1, 2, 2, 3, 3, 3]\nfrequency = Counter(my_list)\nprint(frequency)  # Outputs: Counter({3: 3, 2: 2, 1: 1})",
      "metadata": {
        "trusted": true
      },
      "outputs": [],
      "execution_count": null
    },
    {
      "cell_type": "code",
      "source": "",
      "metadata": {
        "trusted": true
      },
      "outputs": [],
      "execution_count": null
    }
  ]
}