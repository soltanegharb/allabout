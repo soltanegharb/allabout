{
  "metadata": {
    "kernelspec": {
      "name": "python",
      "display_name": "Python (Pyodide)",
      "language": "python"
    },
    "language_info": {
      "codemirror_mode": {
        "name": "python",
        "version": 3
      },
      "file_extension": ".py",
      "mimetype": "text/x-python",
      "name": "python",
      "nbconvert_exporter": "python",
      "pygments_lexer": "ipython3",
      "version": "3.8"
    }
  },
  "nbformat_minor": 4,
  "nbformat": 4,
  "cells": [
    {
      "cell_type": "markdown",
      "source": "# Tuples in Python\nTuples are a type of sequence in Python, similar to lists, but with a key difference: they are immutable, meaning their values cannot be changed once they are created.\n# Advantages of Tuples\n\nImmutability: Ensures data integrity.\n\nPerformance: Tuples are generally faster than lists.\n\nMemory: Tuples use less memory.",
      "metadata": {
        "jp-MarkdownHeadingCollapsed": true
      }
    },
    {
      "cell_type": "markdown",
      "source": "# Creating a Tuple\nA tuple is created by placing all the items (elements) inside parentheses (), separated by commas:",
      "metadata": {}
    },
    {
      "cell_type": "code",
      "source": "my_tuple = (1, 2, 3)",
      "metadata": {
        "trusted": true
      },
      "outputs": [],
      "execution_count": null
    },
    {
      "cell_type": "markdown",
      "source": "# Accessing Elements\nYou can access elements in a tuple by using indexing:",
      "metadata": {}
    },
    {
      "cell_type": "code",
      "source": "my_tuple = (1, 2, 3)\nprint(my_tuple[0])  # Output: 1",
      "metadata": {
        "trusted": true
      },
      "outputs": [],
      "execution_count": null
    },
    {
      "cell_type": "markdown",
      "source": "# Creating a Singleton Tuple\nTo create a tuple with only one element, you need to include a comma:",
      "metadata": {}
    },
    {
      "cell_type": "code",
      "source": "single_element_tuple = (1,)",
      "metadata": {
        "trusted": true
      },
      "outputs": [],
      "execution_count": null
    },
    {
      "cell_type": "markdown",
      "source": "The reason for including a comma when creating a singleton tuple is to differentiate it from a regular expression enclosed in parentheses. Without the comma, Python interprets it as a simple value enclosed in parentheses rather than a tuple.\n\nWithout the comma:",
      "metadata": {}
    },
    {
      "cell_type": "code",
      "source": "single_element = (5)\nprint(type(single_element))  # Output: <class 'int'>",
      "metadata": {
        "trusted": true
      },
      "outputs": [],
      "execution_count": null
    },
    {
      "cell_type": "markdown",
      "source": "In this case, single_element is treated as an integer.\n\nWith the comma:",
      "metadata": {}
    },
    {
      "cell_type": "code",
      "source": "single_element_tuple = (5,)\nprint(type(single_element_tuple))  # Output: <class 'tuple'>",
      "metadata": {
        "trusted": true
      },
      "outputs": [],
      "execution_count": null
    },
    {
      "cell_type": "markdown",
      "source": "# Immutability\nBecause tuples are immutable, you cannot change their values:",
      "metadata": {}
    },
    {
      "cell_type": "code",
      "source": "my_tuple = (1, 2, 3)\nmy_tuple[0] = 4  # This will raise an error",
      "metadata": {
        "trusted": true
      },
      "outputs": [],
      "execution_count": null
    },
    {
      "cell_type": "markdown",
      "source": "# Common Uses\nReturning Multiple Values from a Function: Functions can return multiple values as a tuple.",
      "metadata": {}
    },
    {
      "cell_type": "code",
      "source": "def get_coordinates():\n    return (10, 20)\n\n\nx, y = get_coordinates()\nprint(x, y)  # Output: 10 20",
      "metadata": {
        "trusted": true
      },
      "outputs": [],
      "execution_count": null
    },
    {
      "cell_type": "markdown",
      "source": "Functions can return multiple values as a tuple, which can then be unpacked:",
      "metadata": {}
    },
    {
      "cell_type": "code",
      "source": "def get_min_max(data):\n    return min(data), max(data)\n\n\nmin_val, max_val = get_min_max([1, 2, 3, 4, 5])\nprint(min_val)  # Outputs: 1\nprint(max_val)  # Outputs: 5",
      "metadata": {
        "trusted": true
      },
      "outputs": [],
      "execution_count": null
    },
    {
      "cell_type": "markdown",
      "source": "Storing Constants: Useful for storing multiple values that shouldn’t change.\nDictionary Keys: Tuples can be used as keys in dictionaries (because they are immutable).",
      "metadata": {}
    },
    {
      "cell_type": "markdown",
      "source": "# Examples\nCombining Tuples:",
      "metadata": {}
    },
    {
      "cell_type": "code",
      "source": "tuple1 = (1, 2, 3)\ntuple2 = (4, 5, 6)\ncombined_tuple = tuple1 + tuple2\nprint(combined_tuple)  # Output: (1, 2, 3, 4, 5, 6)",
      "metadata": {
        "trusted": true
      },
      "outputs": [],
      "execution_count": null
    },
    {
      "cell_type": "markdown",
      "source": "# Repeating Tuples:",
      "metadata": {}
    },
    {
      "cell_type": "code",
      "source": "repeated_tuple = my_tuple * 2\nprint(repeated_tuple)  # Output: (1, 2, 3, 1, 2, 3)",
      "metadata": {
        "trusted": true
      },
      "outputs": [],
      "execution_count": null
    },
    {
      "cell_type": "markdown",
      "source": "# Tuple Packing and Unpacking\nPacking: You can pack multiple values into a single tuple:",
      "metadata": {}
    },
    {
      "cell_type": "code",
      "source": "packed_tuple = 1, 2, 3\nprint(packed_tuple)  # Outputs: (1, 2, 3)",
      "metadata": {
        "trusted": true
      },
      "outputs": [],
      "execution_count": null
    },
    {
      "cell_type": "markdown",
      "source": "# Unpacking Tuples\nYou can unpack tuples into individual variables very conveniently:",
      "metadata": {}
    },
    {
      "cell_type": "code",
      "source": "my_tuple = (1, 2, 3)\na, b, c = my_tuple\nprint(a)  # Outputs: 1\nprint(b)  # Outputs: 2\nprint(c)  # Outputs: 3",
      "metadata": {
        "trusted": true
      },
      "outputs": [],
      "execution_count": null
    },
    {
      "cell_type": "markdown",
      "source": "# Tuple Unpacking with Nested Structures\nYou can unpack nested tuples by mirroring the structure:",
      "metadata": {}
    },
    {
      "cell_type": "code",
      "source": "nested_tuple = (1, (2, 3), 4)\na, (b, c), d = nested_tuple\nprint(a)  # Outputs: 1\nprint(b)  # Outputs: 2\nprint(c)  # Outputs: 3\nprint(d)  # Outputs: 4",
      "metadata": {
        "trusted": true
      },
      "outputs": [],
      "execution_count": null
    },
    {
      "cell_type": "markdown",
      "source": "# Using Tuples as Dictionary Keys\nSince tuples are immutable, they can be used as keys in dictionaries:",
      "metadata": {}
    },
    {
      "cell_type": "code",
      "source": "coordinates = {}\ncoordinates[(0, 0)] = \"Origin\"\ncoordinates[(1, 2)] = \"Point A\"\nprint(coordinates)  # Outputs: {(0, 0): 'Origin', (1, 2): 'Point A'}",
      "metadata": {
        "trusted": true
      },
      "outputs": [],
      "execution_count": null
    },
    {
      "cell_type": "markdown",
      "source": "# Nested Tuples\nTuples can contain other tuples, allowing you to create nested structures:",
      "metadata": {}
    },
    {
      "cell_type": "code",
      "source": "nested_tuple = (1, (2, 3), (4, 5, 6))\nprint(nested_tuple[1][1])  # Outputs: 3",
      "metadata": {
        "trusted": true
      },
      "outputs": [],
      "execution_count": null
    },
    {
      "cell_type": "markdown",
      "source": "# Converting Between Lists and Tuples\nYou can easily convert lists to tuples and vice versa:",
      "metadata": {}
    },
    {
      "cell_type": "code",
      "source": "my_list = [1, 2, 3]\nmy_tuple = tuple(my_list)\nprint(my_tuple)  # Outputs: (1, 2, 3)\n\nnew_list = list(my_tuple)\nprint(new_list)  # Outputs: [1, 2, 3]",
      "metadata": {
        "trusted": true
      },
      "outputs": [],
      "execution_count": null
    },
    {
      "cell_type": "markdown",
      "source": "# Slicing Tuples\nSimilar to lists, you can slice tuples to get sub-tuples:",
      "metadata": {}
    },
    {
      "cell_type": "code",
      "source": "my_tuple = (1, 2, 3, 4, 5)\nprint(my_tuple[1:4])  # Outputs: (2, 3, 4)",
      "metadata": {
        "trusted": true
      },
      "outputs": [],
      "execution_count": null
    },
    {
      "cell_type": "markdown",
      "source": "# Tuple Methods\ncount: Counts the occurrences of a value.",
      "metadata": {}
    },
    {
      "cell_type": "code",
      "source": "my_tuple = (1, 2, 2, 3, 2)\nprint(my_tuple.count(2))  # Outputs: 3",
      "metadata": {
        "trusted": true
      },
      "outputs": [],
      "execution_count": null
    },
    {
      "cell_type": "markdown",
      "source": "index: Returns the index of the first occurrence of a value.",
      "metadata": {}
    },
    {
      "cell_type": "code",
      "source": "my_tuple = (1, 2, 3, 2)\nprint(my_tuple.index(2))  # Outputs: 1",
      "metadata": {
        "trusted": true
      },
      "outputs": [],
      "execution_count": null
    },
    {
      "cell_type": "markdown",
      "source": "# Swapping Variables\nOne of the elegant uses of tuples is swapping the values of variables without needing a temporary variable.\n\nthe statement a, b = b, a uses tuples. What happens is that a temporary tuple (b, a) is created, and then this temporary tuple is used to swap the values of a and b",
      "metadata": {}
    },
    {
      "cell_type": "code",
      "source": "a = 10\nb = 20\na, b = b, a\nprint(a)  # Outputs: 20\nprint(b)  # Outputs: 10",
      "metadata": {
        "trusted": true
      },
      "outputs": [],
      "execution_count": null
    },
    {
      "cell_type": "markdown",
      "source": "# Using Tuples in a for Loop\nTuples can be used directly in for loops to unpack each element:",
      "metadata": {}
    },
    {
      "cell_type": "code",
      "source": "points = [(1, 2), (3, 4), (5, 6)]\nfor x, y in points:\n    print(f\"Point: x={x}, y={y}\")\n# Outputs:\n# Point: x=1, y=2\n# Point: x=3, y=4\n# Point: x=5, y=6",
      "metadata": {
        "trusted": true
      },
      "outputs": [],
      "execution_count": null
    },
    {
      "cell_type": "markdown",
      "source": "# Default Arguments with Tuples\nTuples can be used to provide default arguments in functions:",
      "metadata": {}
    },
    {
      "cell_type": "code",
      "source": "def print_coordinates(coords=(0, 0)):\n    print(f\"X: {coords[0]}, Y: {coords[1]}\")\n\nprint_coordinates((10, 20))  # Outputs: X: 10, Y: 20\nprint_coordinates()  # Outputs: X: 0, Y: 0",
      "metadata": {
        "trusted": true
      },
      "outputs": [],
      "execution_count": null
    },
    {
      "cell_type": "markdown",
      "source": "# Real-World Example\nLet’s implement a simple function that calculates the area and perimeter of a rectangle and returns them as a tuple:",
      "metadata": {}
    },
    {
      "cell_type": "code",
      "source": "def rectangle_properties(width, height):\n    area = width * height\n    perimeter = 2 * (width + height)\n    return area, perimeter\n\n\narea, perimeter = rectangle_properties(5, 10)\nprint(f\"Area: {area}, Perimeter: {perimeter}\")\n# Outputs: Area: 50, Perimeter: 30",
      "metadata": {
        "trusted": true
      },
      "outputs": [],
      "execution_count": null
    },
    {
      "cell_type": "markdown",
      "source": "# Zipping and Unzipping Using Tuples\nYou can use zip to combine multiple lists into tuples, and then zip(*...) to unzip them:",
      "metadata": {}
    },
    {
      "cell_type": "code",
      "source": "list1 = [1, 2, 3]\nlist2 = ['a', 'b', 'c']\nzipped = list(zip(list1, list2))\nprint(zipped)  # Outputs: [(1, 'a'), (2, 'b'), (3, 'c')]\n\nunzipped = zip(*zipped)\nlist1_unzipped, list2_unzipped = list(unzipped)\nprint(list1_unzipped)  # Outputs: [1, 2, 3]\nprint(list2_unzipped)  # Outputs: ['a', 'b', 'c']",
      "metadata": {
        "trusted": true
      },
      "outputs": [],
      "execution_count": null
    },
    {
      "cell_type": "markdown",
      "source": "# Named Tuples\nNamed tuples provide a way to access tuple elements by name, making your code more readable:\nNamedtuples Explained\nnamedtuple is a factory function for creating tuple subclasses with named fields. It is part of the collections module. Namedtuples are similar to regular tuples, but the difference is that fields can be accessed by name instead of by index, making the code more readable and self-documenting.\n\n## Why Use Namedtuples?\nReadability: Accessing elements by name improves code readability.\n\nImmutability: Like regular tuples, namedtuples are immutable.\n\nMemory Efficiency: Namedtuples are more memory-efficient than dictionaries.\n",
      "metadata": {}
    },
    {
      "cell_type": "code",
      "source": "from collections import namedtuple\n\n# Define a named tuple type called 'Point'\n\nPoint = namedtuple('Point', 'x y')\n\n# Create an instance of Point\n\np = Point(x=10, y=20)\nprint(p.x)  # Outputs: 10\nprint(p.y)  # Outputs: 20\n",
      "metadata": {
        "trusted": true
      },
      "outputs": [],
      "execution_count": null
    },
    {
      "cell_type": "markdown",
      "source": "## Example Usage of Namedtuples\nLet's see a more complete example:",
      "metadata": {}
    },
    {
      "cell_type": "code",
      "source": "# Define a named tuple type called 'Car'\n\nCar = namedtuple('Car', 'make model year')\n\n# Create instances of Car\n\ncar1 = Car(make='Toyota', model='Corolla', year=2020)\ncar2 = Car(make='Honda', model='Civic', year=2018)\n\n# Access fields by name\n\nprint(car1.make)  # Outputs: 'Toyota'\nprint(car2.model)  # Outputs: 'Civic'\nprint(car1.year)  # Outputs: 2020\n\n# Access fields by index\n\nprint(car1[0])  # Outputs: 'Toyota'\nprint(car2[1])  # Outputs: 'Civic'",
      "metadata": {
        "trusted": true
      },
      "outputs": [],
      "execution_count": null
    },
    {
      "cell_type": "markdown",
      "source": "## Additional Features of Namedtuples\n\n_fields: A tuple containing the field names:\n",
      "metadata": {}
    },
    {
      "cell_type": "code",
      "source": "print(Car._fields)  # Outputs: ('make', 'model', 'year')",
      "metadata": {
        "trusted": true
      },
      "outputs": [
        {
          "ename": "<class 'NameError'>",
          "evalue": "name 'Car' is not defined",
          "traceback": [
            "\u001b[0;31m---------------------------------------------------------------------------\u001b[0m",
            "\u001b[0;31mNameError\u001b[0m                                 Traceback (most recent call last)",
            "Cell \u001b[0;32mIn[3], line 1\u001b[0m\n\u001b[0;32m----> 1\u001b[0m \u001b[38;5;28mprint\u001b[39m(\u001b[43mCar\u001b[49m\u001b[38;5;241m.\u001b[39m_fields)  \u001b[38;5;66;03m# Outputs: ('make', 'model', 'year')\u001b[39;00m\n",
            "\u001b[0;31mNameError\u001b[0m: name 'Car' is not defined"
          ],
          "output_type": "error"
        }
      ],
      "execution_count": 3
    },
    {
      "cell_type": "markdown",
      "source": "_replace(): Creates a new instance with specified fields replaced:",
      "metadata": {}
    },
    {
      "cell_type": "code",
      "source": "new_car = car1._replace(year=2022)\nprint(new_car)  # Outputs: Car(make='Toyota', model='Corolla', year=2022)",
      "metadata": {
        "trusted": true
      },
      "outputs": [],
      "execution_count": null
    },
    {
      "cell_type": "markdown",
      "source": "_asdict(): Converts the namedtuple to a dictionary:",
      "metadata": {}
    },
    {
      "cell_type": "code",
      "source": "car_dict = car1._asdict()\n# Outputs: {'make': 'Toyota', 'model': 'Corolla', 'year': 2020}\nprint(car_dict)",
      "metadata": {
        "trusted": true
      },
      "outputs": [],
      "execution_count": null
    },
    {
      "cell_type": "markdown",
      "source": "# Immutability and Hashability\nBecause tuples are immutable, they can be used as keys in dictionaries and added to sets:",
      "metadata": {}
    },
    {
      "cell_type": "markdown",
      "source": "## Using a tuple as a dictionary key",
      "metadata": {}
    },
    {
      "cell_type": "code",
      "source": "coordinates = {}\ncoordinates[(0, 0)] = \"Origin\"\nprint(coordinates)  # Outputs: {(0, 0): 'Origin'}",
      "metadata": {
        "trusted": true
      },
      "outputs": [],
      "execution_count": null
    },
    {
      "cell_type": "markdown",
      "source": "## Adding tuples to a set",
      "metadata": {}
    },
    {
      "cell_type": "code",
      "source": "unique_tuples = set()\nunique_tuples.add((1, 2))\nunique_tuples.add((1, 2))  # Duplicate, won't be added\nprint(unique_tuples)  # Outputs: {(1, 2)}",
      "metadata": {
        "trusted": true
      },
      "outputs": [],
      "execution_count": null
    },
    {
      "cell_type": "markdown",
      "source": "# Performance Benefits\nTuples are generally more memory-efficient and faster than lists because they are immutable:",
      "metadata": {}
    },
    {
      "cell_type": "code",
      "source": "import sys\n\nlist_example = [1, 2, 3, 4, 5]\ntuple_example = (1, 2, 3, 4, 5)\nprint(sys.getsizeof(list_example), \"Bytes\")  # Size of list in Bytes\nprint(sys.getsizeof(tuple_example), \"Bytes\")  # Size of tuple in Bytes\n",
      "metadata": {
        "trusted": true
      },
      "outputs": [],
      "execution_count": null
    },
    {
      "cell_type": "markdown",
      "source": "# Using Tuples in Dictionaries and Sets\nTuples can be used as keys in dictionaries or elements in sets due to their immutability:",
      "metadata": {}
    },
    {
      "cell_type": "markdown",
      "source": "## Using tuples in a dictionary",
      "metadata": {}
    },
    {
      "cell_type": "code",
      "source": "points = {(1, 2): \"A\", (3, 4): \"B\"}\nprint(points[(1, 2)])  # Outputs: \"A\"",
      "metadata": {
        "trusted": true
      },
      "outputs": [],
      "execution_count": null
    },
    {
      "cell_type": "markdown",
      "source": "## Adding tuples to a set",
      "metadata": {}
    },
    {
      "cell_type": "code",
      "source": "unique_points = set()\nunique_points.add((1, 2))\nunique_points.add((3, 4))\nprint(unique_points)  # Outputs: {(1, 2), (3, 4)}",
      "metadata": {
        "trusted": true
      },
      "outputs": [],
      "execution_count": null
    }
  ]
}