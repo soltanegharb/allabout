{
  "metadata": {
    "kernelspec": {
      "name": "python",
      "display_name": "Python (Pyodide)",
      "language": "python"
    },
    "language_info": {
      "codemirror_mode": {
        "name": "python",
        "version": 3
      },
      "file_extension": ".py",
      "mimetype": "text/x-python",
      "name": "python",
      "nbconvert_exporter": "python",
      "pygments_lexer": "ipython3",
      "version": "3.8"
    }
  },
  "nbformat_minor": 4,
  "nbformat": 4,
  "cells": [
    {
      "cell_type": "markdown",
      "source": "# In programming, especially in Python, \"underscore\" (_ or __) has several important uses:",
      "metadata": {}
    },
    {
      "cell_type": "markdown",
      "source": "# Single Underscore (_):",
      "metadata": {}
    },
    {
      "cell_type": "markdown",
      "source": "Temporary Variables: Commonly used to indicate that a variable is temporary or insignificant.",
      "metadata": {}
    },
    {
      "cell_type": "code",
      "source": "for _ in range(5):\n    print(\"Hello\")",
      "metadata": {
        "trusted": true
      },
      "outputs": [],
      "execution_count": null
    },
    {
      "cell_type": "markdown",
      "source": "## Interactive Interpreter: In Python’s interactive shell, _ is used to hold the result of the last executed expression.",
      "metadata": {}
    },
    {
      "cell_type": "code",
      "source": "# >>> 5 + 3\n8\n# >>> _ * 2\n16",
      "metadata": {
        "trusted": true
      },
      "outputs": [],
      "execution_count": null
    },
    {
      "cell_type": "markdown",
      "source": "# Special Use of Underscore in Numeric Literals\nUnderscores can be used in numeric literals to improve readability.",
      "metadata": {}
    },
    {
      "cell_type": "code",
      "source": "large_number = 1_000_000\nhex_number = 0x_1A_2B_3C\nprint(large_number)  # Outputs: 1000000\nprint(hex_number)    # Outputs: 1715004",
      "metadata": {
        "trusted": true
      },
      "outputs": [],
      "execution_count": null
    },
    {
      "cell_type": "markdown",
      "source": "# Unpacking Values with Underscore\nIgnoring Values: Often used in unpacking when you want to ignore certain values.",
      "metadata": {}
    },
    {
      "cell_type": "code",
      "source": "a, _, b = (1, 2, 3)\na, *_, b = (1, 2, 4, 7, 3)\nprint(a)  # Outputs: 1\nprint(b)  # Outputs: 3\nprint(_)  # Outputs: [2, 4, 7]",
      "metadata": {
        "trusted": true
      },
      "outputs": [],
      "execution_count": null
    },
    {
      "cell_type": "markdown",
      "source": "# Ignoring Values: Used when a value needs to be passed but is not going to be used.",
      "metadata": {}
    },
    {
      "cell_type": "code",
      "source": "def my_function(_, a, b):\n    return a + b\n\nprint(my_function(10, 5, 3))  # Outputs: 8 (10 is ignored)",
      "metadata": {
        "trusted": true
      },
      "outputs": [],
      "execution_count": null
    },
    {
      "cell_type": "markdown",
      "source": "# Single Leading Underscore (_variable):\n\nWeak \"Internal Use\" Indicator: A convention to indicate that a variable or method is intended for internal use. It is a hint for programmers and does not enforce any access restriction.",
      "metadata": {}
    },
    {
      "cell_type": "code",
      "source": "class MyClass:\n    def __init__(self):\n        self._internal_var = 10  # Internal Variable\n\n    def _internal_method(self):\n        print(\"This is an internal method.\")  # Internal Method",
      "metadata": {
        "trusted": true
      },
      "outputs": [],
      "execution_count": null
    },
    {
      "cell_type": "markdown",
      "source": "# Example:",
      "metadata": {}
    },
    {
      "cell_type": "code",
      "source": "class MyClass:\n    def __init__(self):\n        self._internal_var = 42  # Intended for internal use\n        self.public_var = 100     # Can be accessed from outside\n\n    def _internal_method(self):\n        # Internal method, not meant to be called from outside\n        print(\"This is an internal method.\")\n\n    def public_method(self):\n        # Public method\n        self._internal_method()\n        print(\"This is a public method.\")\n\n\nobj = MyClass()\nprint(obj.public_var)       # Outputs: 100\nprint(obj._internal_var)    # Outputs: 42 (but is intended for internal use)\n\nobj.public_method()         # Works fine\nobj._internal_method()      # Works, but not recommended\n",
      "metadata": {
        "trusted": true
      },
      "outputs": [],
      "execution_count": null
    },
    {
      "cell_type": "markdown",
      "source": "# Single Trailing Underscore (variable_):\n\nAvoiding Naming Conflicts: Used to avoid naming conflicts with Python keywords or built-in names.",
      "metadata": {}
    },
    {
      "cell_type": "code",
      "source": "def function_(self):\n    pass",
      "metadata": {
        "trusted": true
      },
      "outputs": [],
      "execution_count": null
    },
    {
      "cell_type": "markdown",
      "source": "# Double Leading Underscore (__variable):\n\nName Mangling: Triggers name mangling where the interpreter changes the name of the variable to include the class name. This is used to avoid conflicts in subclasses.\"\"\"\n\nName Mangling\" refers to the process by which the Python interpreter changes the name of a variable or method to include the class name, helping to avoid naming conflicts in subclasses. When you use double underscores (__) at the beginning of a variable or method name, Python automatically modifies its name to include the class name. This prevents naming conflicts in subclasses.",
      "metadata": {}
    },
    {
      "cell_type": "code",
      "source": "class BaseClass:\n    def __init__(self):\n        self.__private_var = 42\n\n\nclass SubClass(BaseClass):\n    def __init__(self):\n        super().__init__()\n        self.__private_var = 100\n\n\nbase = BaseClass()\nsub = SubClass()\n\"\"\"In BaseClass, the variable __private_var is defined. Python changes its name to _BaseClass__private_var.\n\nIn SubClass, another variable named __private_var is defined. Python changes its name to _SubClass__private_var.\"\"\"\n\nprint(base._BaseClass__private_var)  # Outputs: 42\nprint(sub._SubClass__private_var)    # Outputs: 100\n",
      "metadata": {
        "trusted": true
      },
      "outputs": [],
      "execution_count": null
    },
    {
      "cell_type": "markdown",
      "source": "# Double Leading and Trailing Underscore (variable):\n\nMagic Methods: Reserved for special use in the language. These methods have specific meanings and are used to implement certain behaviors in Python (e.g., __init__, __call__, __str__, etc.).\n\nMagic Methods in Python, also known as dunder (double underscore) methods, are special methods that start and end with double underscores (__). These methods have special meanings and allow you to define or customize the behavior of your objects in Python. Here are some common magic methods and their uses:\n\nmagic methods are specifically designed for objects in Python. These methods allow you to define or customize the behavior of instances of your classes when they interact with built-in Python functions and operators. Here are some key points to understand:\n\nObject-Oriented: Magic methods are integral to Python's object-oriented programming. They allow you to define how your objects behave in various situations.\n\nClass Instances: Magic methods are defined within classes and are called on instances of those classes (objects).\n\nCustomization: They help customize behaviors like initialization (__init__), string representation (__str__), calling the object as a function (__call__), indexing (__getitem__), and more.\n",
      "metadata": {}
    },
    {
      "cell_type": "code",
      "source": "class MyClass:\n    def __init__(self):\n        self.var = 10\n\n    def __str__(self):\n        return f\"MyClass with var = {self.var}\"",
      "metadata": {
        "trusted": true
      },
      "outputs": [],
      "execution_count": null
    },
    {
      "cell_type": "markdown",
      "source": "## Example",
      "metadata": {}
    },
    {
      "cell_type": "code",
      "source": "class MyClass:\n    def __init__(self, value):\n        self.value = value\n\n    def __str__(self):\n        return f\"MyClass with value {self.value}\"\n\n    def __call__(self, x):\n        return x * self.value\n\n\"\"\"Creating an instance of MyClass (an object)\"\"\"\n\nobj = MyClass(10)\n\nprint(obj)            # Calls __str__, Outputs: MyClass with value 10\nprint(obj(5))         # Calls __call__, Outputs: 50",
      "metadata": {
        "trusted": true
      },
      "outputs": [],
      "execution_count": null
    },
    {
      "cell_type": "markdown",
      "source": "## Example",
      "metadata": {}
    },
    {
      "cell_type": "code",
      "source": "class Vector:\n    def __init__(self, x, y):\n        self.x = x\n        self.y = y\n\n    def __add__(self, other):\n        return Vector(self.x + other.x, self.y + other.y)\n\n    def __str__(self):\n        return f\"Vector({self.x}, {self.y})\"\n\nv1 = Vector(2, 3)\nv2 = Vector(4, 5)\nv3 = v1 + v2  # Using the __add__ Method\nprint(v3)     # Output: Vector(6, 8)",
      "metadata": {
        "trusted": true
      },
      "outputs": [],
      "execution_count": null
    },
    {
      "cell_type": "markdown",
      "source": "# Instance Variables vs. Class Variables with Underscores\nWhile it's more of a convention and not enforced by Python, using underscores can help indicate the intended scope and use of variables, making the code more readable and maintainable. Here’s how it works:",
      "metadata": {}
    },
    {
      "cell_type": "code",
      "source": "\"\"\"Instance Variables: Typically defined in methods like __init__,\nprefixed with a single underscore to indicate they are intended for internal use within instances\"\"\"\n\nclass MyClass:\n    def __init__(self, value):\n        self._instance_var = value\n\n\"\"\"Class Variables: Often prefixed with a single or double underscore to prevent name clashes\nor to follow a naming convention, especially when they should not be accessed or modified directly.\"\"\"\n\nclass MyClass:\n    __class_var = 42  # Double underscore for name mangling and internal use",
      "metadata": {
        "trusted": true
      },
      "outputs": [],
      "execution_count": null
    },
    {
      "cell_type": "markdown",
      "source": "# Leading Underscore in Module Names\nInternal Modules: A single leading underscore in module names indicates that the module is intended for internal use.",
      "metadata": {}
    },
    {
      "cell_type": "code",
      "source": "_internal_module.py",
      "metadata": {
        "trusted": true
      },
      "outputs": [],
      "execution_count": null
    },
    {
      "cell_type": "code",
      "source": "",
      "metadata": {
        "trusted": true
      },
      "outputs": [],
      "execution_count": null
    }
  ]
}